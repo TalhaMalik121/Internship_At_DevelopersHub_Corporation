{
 "cells": [
  {
   "cell_type": "markdown",
   "id": "6929a138-b057-45a8-b8f8-0bb618270745",
   "metadata": {},
   "source": [
    "# Learning Numpy\n",
    "## 1)Create an array of zeros, ones, and a range"
   ]
  },
  {
   "cell_type": "code",
   "execution_count": 2,
   "id": "1b821360-d69f-4ead-8d9f-8defbd3dd206",
   "metadata": {},
   "outputs": [
    {
     "name": "stdout",
     "output_type": "stream",
     "text": [
      "[[0. 0. 0. 0.]\n",
      " [0. 0. 0. 0.]\n",
      " [0. 0. 0. 0.]]\n",
      "[[1. 1.]\n",
      " [1. 1.]]\n",
      "[0 1 2 3 4 5 6 7 8 9]\n",
      "[0.   0.25 0.5  0.75 1.  ]\n"
     ]
    }
   ],
   "source": [
    "import numpy as np\n",
    "\n",
    "a = np.zeros((3, 4))           # 3x4 array of zeros\n",
    "b = np.ones((2, 2))            # 2x2 array of ones\n",
    "c = np.arange(10)              # Array from 0 to 9\n",
    "d = np.linspace(0, 1, 5)       # 5 numbers between 0 and 1\n",
    "print(a)\n",
    "print(b)\n",
    "print(c)\n",
    "print(d)"
   ]
  },
  {
   "cell_type": "markdown",
   "id": "55ae0b5b-a5bf-41c9-8de9-17067b3087e2",
   "metadata": {},
   "source": [
    "## 2)Basic indexing and slicing"
   ]
  },
  {
   "cell_type": "code",
   "execution_count": 3,
   "id": "b99ee6b8-ae32-489c-ada2-e9bc3b652272",
   "metadata": {},
   "outputs": [
    {
     "name": "stdout",
     "output_type": "stream",
     "text": [
      "[20 30 40]\n",
      "[50 40 30 20 10]\n"
     ]
    }
   ],
   "source": [
    "arr = np.array([10, 20, 30, 40, 50])\n",
    "print(arr[1:4])       # Slice from index 1 to 3\n",
    "print(arr[::-1])      # Reverse array\n"
   ]
  },
  {
   "cell_type": "markdown",
   "id": "a0ec801d-bf27-4c41-920e-3f5b7bfeedda",
   "metadata": {
    "scrolled": true
   },
   "source": [
    "#3)Reshape and flatten arrays\n",
    "\n",
    "arr = np.arange(12)\n",
    "print(arr)\n",
    "reshaped = arr.reshape((3, 4))\n",
    "print(reshaped)\n",
    "flat = reshaped.flatten()\n",
    "print(flat)\n"
   ]
  },
  {
   "cell_type": "markdown",
   "id": "cc53f7bd-2ee6-4984-adf9-dd3515e70587",
   "metadata": {},
   "source": [
    "## 3)Matrix Operation"
   ]
  },
  {
   "cell_type": "code",
   "execution_count": 4,
   "id": "f764d67a-92cf-45d2-b3fa-6310d62ae514",
   "metadata": {},
   "outputs": [
    {
     "name": "stdout",
     "output_type": "stream",
     "text": [
      "[[1 2]\n",
      " [3 4]]\n",
      "[[5 6]\n",
      " [7 8]]\n",
      "[[ 6  8]\n",
      " [10 12]]\n",
      "[[19 22]\n",
      " [43 50]]\n",
      "[[1 3]\n",
      " [2 4]]\n"
     ]
    }
   ],
   "source": [
    "A = np.array([[1, 2], [3, 4]])\n",
    "B = np.array([[5, 6], [7, 8]])\n",
    "print(A)\n",
    "print(B)\n",
    "print(A + B)          # Element-wise addition\n",
    "print(A @ B)          # Matrix multiplication\n",
    "print(A.T)            # Transpose\n"
   ]
  },
  {
   "cell_type": "markdown",
   "id": "b3f8d847-c31b-4762-829f-522338e82289",
   "metadata": {},
   "source": [
    "## 4)Boolean indexing and filtering"
   ]
  },
  {
   "cell_type": "code",
   "execution_count": 5,
   "id": "55eea28f-8337-4429-99c7-d2129dfeb1ba",
   "metadata": {},
   "outputs": [
    {
     "name": "stdout",
     "output_type": "stream",
     "text": [
      "[2 4 6]\n"
     ]
    }
   ],
   "source": [
    "arr = np.array([1, 2, 3, 4, 5, 6])\n",
    "print(arr[arr % 2 == 0])   # Even numbers\n"
   ]
  },
  {
   "cell_type": "markdown",
   "id": "dbaebf70-7665-454c-beab-f0fe09fcd69b",
   "metadata": {},
   "source": [
    "## 5)Random Number Generator"
   ]
  },
  {
   "cell_type": "code",
   "execution_count": 6,
   "id": "58a39531-b8c1-4357-9359-b25841ab1752",
   "metadata": {},
   "outputs": [
    {
     "name": "stdout",
     "output_type": "stream",
     "text": [
      "Rand_arr [[0.5488135  0.71518937 0.60276338]\n",
      " [0.54488318 0.4236548  0.64589411]\n",
      " [0.43758721 0.891773   0.96366276]] \n",
      "\n",
      "Norm_arr [[ 1.26611853 -0.50587654  2.54520078]\n",
      " [ 1.08081191  0.48431215  0.57914048]\n",
      " [-0.18158257  1.41020463 -0.37447169]]\n"
     ]
    }
   ],
   "source": [
    "np.random.seed(0)\n",
    "rand_arr = np.random.rand(3, 3)    # Uniform random numbers\n",
    "norm_arr = np.random.randn(3, 3)   # Normal distribution\n",
    "print(\"Rand_arr\",rand_arr,\"\\n\")\n",
    "print(\"Norm_arr\",norm_arr)\n"
   ]
  },
  {
   "cell_type": "markdown",
   "id": "722b51db-2f5f-4208-8e86-c0c8bcf60197",
   "metadata": {},
   "source": [
    "## 6)Broadcasting"
   ]
  },
  {
   "cell_type": "code",
   "execution_count": 13,
   "id": "b560653f-c58e-43d1-8191-54bb74fda03f",
   "metadata": {},
   "outputs": [
    {
     "name": "stdout",
     "output_type": "stream",
     "text": [
      "[[5 6 7]\n",
      " [6 7 8]\n",
      " [7 8 9]]\n"
     ]
    }
   ],
   "source": [
    "A = np.array([[1], [2], [3]])\n",
    "B = np.array([4, 5, 6])\n",
    "print(A + B)  # Broadcasting will expand A to match B\n"
   ]
  },
  {
   "cell_type": "markdown",
   "id": "cdaf230c-9a46-4fd7-97b9-5d16dc74c261",
   "metadata": {},
   "source": [
    "## 7)Fancy indexing"
   ]
  },
  {
   "cell_type": "code",
   "execution_count": 7,
   "id": "736232a5-915c-40f4-8946-d57d51c69ce1",
   "metadata": {},
   "outputs": [
    {
     "name": "stdout",
     "output_type": "stream",
     "text": [
      "[20 40 50]\n"
     ]
    }
   ],
   "source": [
    "arr = np.array([10, 20, 30, 40, 50])\n",
    "idx = [1, 3, 4]\n",
    "print(arr[idx])\n"
   ]
  },
  {
   "cell_type": "markdown",
   "id": "a1838f4b-a395-4c96-be21-a3b0bcb74676",
   "metadata": {},
   "source": [
    "## 8)Apply a custom function to an array"
   ]
  },
  {
   "cell_type": "code",
   "execution_count": 8,
   "id": "67d3feff-203e-4b88-9ab3-76eb072bd253",
   "metadata": {},
   "outputs": [
    {
     "name": "stdout",
     "output_type": "stream",
     "text": [
      "[ 5  9 15 23]\n"
     ]
    }
   ],
   "source": [
    "def custom_fn(x):\n",
    "    return x**2 + 3*x + 5\n",
    "\n",
    "arr = np.array([0, 1, 2, 3])\n",
    "result = custom_fn(arr)\n",
    "print(result)\n"
   ]
  },
  {
   "cell_type": "markdown",
   "id": "13f80831-f0c7-4f92-a68c-a60ee8a5e616",
   "metadata": {},
   "source": [
    "## 9)Statistics and aggregation"
   ]
  },
  {
   "cell_type": "code",
   "execution_count": 9,
   "id": "e070a176-e938-4f76-85d5-b0a58306476f",
   "metadata": {},
   "outputs": [
    {
     "name": "stdout",
     "output_type": "stream",
     "text": [
      "[[32 65  9 57 32]\n",
      " [31 74 23 35 75]\n",
      " [55 28 34  0  0]\n",
      " [36 53  5 38 17]\n",
      " [79  4 42 58 31]]\n",
      "[46.6 44.8 22.6 37.6 31. ]\n",
      "23.021937364175066\n",
      "[195 238 117 149 214]\n"
     ]
    }
   ],
   "source": [
    "arr = np.random.randint(0, 100, size=(5, 5))\n",
    "print(arr)\n",
    "print(np.mean(arr, axis=0))    # Mean of each column\n",
    "print(np.std(arr))             # Standard deviation\n",
    "print(np.sum(arr, axis=1))     # Sum of each row"
   ]
  }
 ],
 "metadata": {
  "kernelspec": {
   "display_name": "Python 3 (ipykernel)",
   "language": "python",
   "name": "python3"
  },
  "language_info": {
   "codemirror_mode": {
    "name": "ipython",
    "version": 3
   },
   "file_extension": ".py",
   "mimetype": "text/x-python",
   "name": "python",
   "nbconvert_exporter": "python",
   "pygments_lexer": "ipython3",
   "version": "3.10.16"
  }
 },
 "nbformat": 4,
 "nbformat_minor": 5
}
