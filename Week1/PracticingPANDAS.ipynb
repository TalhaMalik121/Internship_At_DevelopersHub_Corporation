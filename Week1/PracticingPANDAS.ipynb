{
 "cells": [
  {
   "cell_type": "markdown",
   "id": "e9951790-438a-4d92-a8e2-35de380bdc1c",
   "metadata": {},
   "source": [
    "# Learning Pandas"
   ]
  },
  {
   "cell_type": "code",
   "execution_count": 18,
   "id": "58a47479-84ef-41ad-9bcc-eb874d8aad51",
   "metadata": {},
   "outputs": [
    {
     "name": "stdout",
     "output_type": "stream",
     "text": [
      "      Name  Age  Salary\n",
      "0    Alice   25   50000\n",
      "1      Bob   30   60000\n",
      "2  Charlie   35   70000\n",
      "3    David   40   80000\n",
      "<class 'pandas.core.frame.DataFrame'>\n",
      "RangeIndex: 4 entries, 0 to 3\n",
      "Data columns (total 3 columns):\n",
      " #   Column  Non-Null Count  Dtype \n",
      "---  ------  --------------  ----- \n",
      " 0   Name    4 non-null      object\n",
      " 1   Age     4 non-null      int64 \n",
      " 2   Salary  4 non-null      int64 \n",
      "dtypes: int64(2), object(1)\n",
      "memory usage: 224.0+ bytes\n",
      "None\n"
     ]
    }
   ],
   "source": [
    "import pandas as pd\n",
    "\n",
    "# Create a DataFrame from a dictionary\n",
    "data = {\n",
    "    'Name': ['Alice', 'Bob', 'Charlie', 'David'],\n",
    "    'Age': [25, 30, 35, 40],\n",
    "    'Salary': [50000, 60000, 70000, 80000]\n",
    "}\n",
    "df = pd.DataFrame(data)\n",
    "\n",
    "print(df.head())     # View first few rows\n",
    "print(df.info())     # Info about types and non-null counts\n"
   ]
  },
  {
   "cell_type": "markdown",
   "id": "afc0c2c9-c467-4d60-969d-a1c5d4f4dc00",
   "metadata": {},
   "source": [
    "## Selecting And Filtering Data"
   ]
  },
  {
   "cell_type": "code",
   "execution_count": 19,
   "id": "54a92683-2813-428f-bc8f-25d0cedab164",
   "metadata": {},
   "outputs": [
    {
     "name": "stdout",
     "output_type": "stream",
     "text": [
      "0      Alice\n",
      "1        Bob\n",
      "2    Charlie\n",
      "3      David\n",
      "Name: Name, dtype: object \n",
      "\n",
      "      Name  Age  Salary\n",
      "2  Charlie   35   70000\n",
      "3    David   40   80000 \n",
      "\n",
      "      Name  Salary\n",
      "0    Alice   50000\n",
      "1      Bob   60000\n",
      "2  Charlie   70000\n",
      "3    David   80000\n"
     ]
    }
   ],
   "source": [
    "# Select a column\n",
    "print(df['Name'],\"\\n\")\n",
    "\n",
    "# Filter rows where Age > 30\n",
    "print(df[df['Age'] > 30],\"\\n\")\n",
    "\n",
    "# Select multiple columns\n",
    "print(df[['Name', 'Salary']])\n"
   ]
  },
  {
   "cell_type": "markdown",
   "id": "01dfeffc-198a-4b35-84ac-b9b228dcc745",
   "metadata": {},
   "source": [
    "## Cleaning Data "
   ]
  },
  {
   "cell_type": "code",
   "execution_count": 20,
   "id": "a8cdd43e-7f81-4eaa-988a-49823cb2943a",
   "metadata": {},
   "outputs": [
    {
     "name": "stdout",
     "output_type": "stream",
     "text": [
      "Missing values:\n",
      "     Name    Age  Salary\n",
      "0  False  False   False\n",
      "1  False  False   False\n",
      "2  False  False    True\n",
      "3  False  False   False\n",
      "\n",
      "Cleaned DataFrame:\n",
      "       Name  Age   Salary\n",
      "0    Alice   25  50000.0\n",
      "1      Bob   30  60000.0\n",
      "2  Charlie   35      0.0\n",
      "3    David   40  80000.0\n"
     ]
    }
   ],
   "source": [
    "\n",
    "# Sample DataFrame\n",
    "data = {\n",
    "    'Name': ['Alice', 'Bob', 'Charlie', 'David'],\n",
    "    'Age': [25, 30, 35, 40],\n",
    "    'Salary': [50000, 60000, 70000, 80000]\n",
    "}\n",
    "df = pd.DataFrame(data)\n",
    "\n",
    "# Introduce a missing value\n",
    "df.loc[2, 'Salary'] = None\n",
    "\n",
    "# Check for missing values\n",
    "print(\"Missing values:\\n\", df.isnull())\n",
    "\n",
    "# Fill missing values in 'Salary' column with 0 (safe method)\n",
    "df['Salary'] = df['Salary'].fillna(0)\n",
    "\n",
    "# Print the cleaned DataFrame\n",
    "print(\"\\nCleaned DataFrame:\\n\", df)\n",
    "\n",
    "\n",
    "# Drop rows with any missing values (uncomment to use)\n",
    "#df.dropna(inplace=True)\n",
    "#print(\"\\nDroped Rows with null values of DataFrame:\\n\", df)\n",
    "\n"
   ]
  },
  {
   "cell_type": "markdown",
   "id": "13ad3726-987e-4cd0-a135-9c40f403b7ee",
   "metadata": {},
   "source": [
    "## Aggregations And Grouping"
   ]
  },
  {
   "cell_type": "code",
   "execution_count": 21,
   "id": "e35697ea-9a18-446c-a91f-c4f3c588304f",
   "metadata": {},
   "outputs": [
    {
     "name": "stdout",
     "output_type": "stream",
     "text": [
      "Department\n",
      "HR    70000.0\n",
      "IT    25000.0\n",
      "Name: Salary, dtype: float64\n"
     ]
    }
   ],
   "source": [
    "# Create a new column\n",
    "df['Department'] = ['IT', 'HR', 'IT', 'HR']\n",
    "\n",
    "# Group by department\n",
    "grouped = df.groupby('Department')['Salary'].mean()\n",
    "print(grouped)\n"
   ]
  },
  {
   "cell_type": "markdown",
   "id": "620a56b0-b2f6-4a7c-afc0-bf445e1c1a24",
   "metadata": {},
   "source": [
    "## Apply Functions\n",
    "## Apply a lambda to a column"
   ]
  },
  {
   "cell_type": "code",
   "execution_count": 24,
   "id": "5c2ea3de-742a-401e-afa1-db4e28bd57ac",
   "metadata": {},
   "outputs": [
    {
     "name": "stdout",
     "output_type": "stream",
     "text": [
      "      Name  Age   Salary Department  Salary_Doubled\n",
      "0    Alice   25  50000.0         IT        100000.0\n",
      "1      Bob   30  60000.0         HR        120000.0\n",
      "2  Charlie   35      0.0         IT             0.0\n",
      "3    David   40  80000.0         HR        160000.0\n"
     ]
    }
   ],
   "source": [
    "df['Salary_Doubled'] = df['Salary'].apply(lambda x: x * 2)\n",
    "print(df.head())"
   ]
  },
  {
   "cell_type": "markdown",
   "id": "55c94d93-adf3-443a-84d1-07d0515c2cd0",
   "metadata": {},
   "source": [
    "## Sorting And Indexing"
   ]
  },
  {
   "cell_type": "code",
   "execution_count": 33,
   "id": "c9a79fef-dd7b-4545-a7b7-01013c10d26c",
   "metadata": {},
   "outputs": [
    {
     "name": "stdout",
     "output_type": "stream",
     "text": [
      "         Age  Salary\n",
      "Name                \n",
      "David     40   80000\n",
      "Charlie   35       0\n",
      "Bob       30   60000\n",
      "Alice     25   50000\n",
      "         Age  Salary\n",
      "Name                \n",
      "Alice     25   50000\n",
      "Bob       30   60000\n",
      "Charlie   35       0\n",
      "David     40   80000\n"
     ]
    }
   ],
   "source": [
    "# Sort by Age\n",
    "df_sorted = df.sort_values(by='Age', ascending=False)\n",
    "print(df_sorted)\n",
    "\n",
    "# Set custom index\n",
    "df = pd.DataFrame(data)\n",
    "df.set_index('Name', inplace=True)\n",
    "print(\"Updated Dataframe:\\n\",df.head())"
   ]
  },
  {
   "cell_type": "code",
   "execution_count": 32,
   "id": "7830b44c-50c6-4fde-887e-7e02ac968ca4",
   "metadata": {},
   "outputs": [
    {
     "name": "stdout",
     "output_type": "stream",
     "text": [
      "Sorted by Age:\n",
      "       Name  Age  Salary\n",
      "3    David   40   80000\n",
      "2  Charlie   35       0\n",
      "1      Bob   30   60000\n",
      "0    Alice   25   50000\n",
      "\n",
      "DataFrame with 'Name' as index:\n",
      "          Age  Salary\n",
      "Name                \n",
      "Alice     25   50000\n",
      "Bob       30   60000\n",
      "Charlie   35       0\n",
      "David     40   80000\n"
     ]
    }
   ],
   "source": [
    "#Sorting And Indexing\n",
    "\n",
    "# Recreate the DataFrame\n",
    "data = {\n",
    "    'Name': ['Alice', 'Bob', 'Charlie', 'David'],\n",
    "    'Age': [25, 30, 35, 40],\n",
    "    'Salary': [50000, 60000, 0, 80000]\n",
    "}\n",
    "df = pd.DataFrame(data)\n",
    "\n",
    "# Sort by Age descending (does not modify original df)\n",
    "df_sorted = df.sort_values(by='Age', ascending=False)\n",
    "print(\"Sorted by Age:\\n\", df_sorted)\n",
    "\n",
    "# Set 'Name' as the index (works because it's still a column)\n",
    "df.set_index('Name', inplace=True)\n",
    "print(\"\\nDataFrame with 'Name' as index:\\n\", df)\n"
   ]
  },
  {
   "cell_type": "markdown",
   "id": "2263f02f-8c17-4025-921d-88b47b8c196e",
   "metadata": {},
   "source": [
    "## Merging And Joining"
   ]
  },
  {
   "cell_type": "code",
   "execution_count": 23,
   "id": "45906545-aa1f-4d3c-9a22-0e99228a4dfa",
   "metadata": {},
   "outputs": [
    {
     "name": "stdout",
     "output_type": "stream",
     "text": [
      "<bound method DataFrame.info of    ID     Name\n",
      "0   1    Alice\n",
      "1   2      Bob\n",
      "2   3  Charlie>\n",
      "<bound method DataFrame.info of    ID  Score\n",
      "0   1     85\n",
      "1   2     90\n",
      "2   4     88>\n",
      "<bound method DataFrame.info of    ID   Name  Score\n",
      "0   1  Alice     85\n",
      "1   2    Bob     90>\n"
     ]
    }
   ],
   "source": [
    "df1 = pd.DataFrame({\n",
    "    'ID': [1, 2, 3],\n",
    "    'Name': ['Alice', 'Bob', 'Charlie']\n",
    "})\n",
    "\n",
    "print(df1.info)\n",
    "df2 = pd.DataFrame({\n",
    "    'ID': [1, 2, 4],\n",
    "    'Score': [85, 90, 88]\n",
    "})\n",
    "\n",
    "print(df2.info)\n",
    "# Merge on 'ID'\n",
    "merged = pd.merge(df1, df2, on='ID', how='inner')  # Try 'left', 'outer'\n",
    "print(merged.info)"
   ]
  },
  {
   "cell_type": "markdown",
   "id": "c82dd726-90ec-4597-b593-8b842b51ef9d",
   "metadata": {},
   "source": [
    "## Reading And Writing to CSV Files"
   ]
  },
  {
   "cell_type": "code",
   "execution_count": 25,
   "id": "2790acb5-277f-4662-8fa5-ecd84ee02496",
   "metadata": {},
   "outputs": [
    {
     "name": "stdout",
     "output_type": "stream",
     "text": [
      "<bound method DataFrame.info of      Nasdaq Traded Symbol                                      Security Name  \\\n",
      "0                Y      A            Agilent Technologies, Inc. Common Stock   \n",
      "1                Y     AA                    Alcoa Corporation Common Stock    \n",
      "2                Y   AAAU                       Perth Mint Physical Gold ETF   \n",
      "3                Y   AACG  ATA Creativity Global - American Depositary Sh...   \n",
      "4                Y   AADR                AdvisorShares Dorsey Wright ADR ETF   \n",
      "...            ...    ...                                                ...   \n",
      "8044             Y    ZUO                   Zuora, Inc. Class A Common Stock   \n",
      "8045             Y    ZVO                          Zovio Inc. - Common Stock   \n",
      "8046             Y   ZYME                       Zymeworks Inc. Common Shares   \n",
      "8047             Y   ZYNE       Zynerba Pharmaceuticals, Inc. - Common Stock   \n",
      "8048             Y   ZYXI                         Zynex, Inc. - Common Stock   \n",
      "\n",
      "     Listing Exchange Market Category ETF  Round Lot Size Test Issue  \\\n",
      "0                   N                   N           100.0          N   \n",
      "1                   N                   N           100.0          N   \n",
      "2                   P                   Y           100.0          N   \n",
      "3                   Q               G   N           100.0          N   \n",
      "4                   P                   Y           100.0          N   \n",
      "...               ...             ...  ..             ...        ...   \n",
      "8044                N                   N           100.0          N   \n",
      "8045                Q               Q   N           100.0          N   \n",
      "8046                N                   N           100.0          N   \n",
      "8047                Q               G   N           100.0          N   \n",
      "8048                Q               S   N           100.0          N   \n",
      "\n",
      "     Financial Status CQS Symbol NASDAQ Symbol NextShares  \n",
      "0                 NaN          A             A          N  \n",
      "1                 NaN         AA            AA          N  \n",
      "2                 NaN       AAAU          AAAU          N  \n",
      "3                   N        NaN          AACG          N  \n",
      "4                 NaN       AADR          AADR          N  \n",
      "...               ...        ...           ...        ...  \n",
      "8044              NaN        ZUO           ZUO          N  \n",
      "8045                N        NaN           ZVO          N  \n",
      "8046              NaN       ZYME          ZYME          N  \n",
      "8047                N        NaN          ZYNE          N  \n",
      "8048                N        NaN          ZYXI          N  \n",
      "\n",
      "[8049 rows x 12 columns]>\n"
     ]
    }
   ],
   "source": [
    "# Read from CSV\n",
    "df = pd.read_csv('symbols_valid_meta.csv')\n",
    "print(df.info)\n",
    "\n",
    "# Write to CSV\n",
    "df.to_csv('output.csv', index=False)\n"
   ]
  }
 ],
 "metadata": {
  "kernelspec": {
   "display_name": "Python 3 (ipykernel)",
   "language": "python",
   "name": "python3"
  },
  "language_info": {
   "codemirror_mode": {
    "name": "ipython",
    "version": 3
   },
   "file_extension": ".py",
   "mimetype": "text/x-python",
   "name": "python",
   "nbconvert_exporter": "python",
   "pygments_lexer": "ipython3",
   "version": "3.10.16"
  }
 },
 "nbformat": 4,
 "nbformat_minor": 5
}
