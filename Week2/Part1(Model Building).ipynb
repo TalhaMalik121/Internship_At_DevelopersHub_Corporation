{
 "cells": [
  {
   "cell_type": "markdown",
   "id": "084fcf8d-3dde-44e1-a0c5-266cadf7deb4",
   "metadata": {},
   "source": [
    "# Model Building\n",
    "\n",
    "## Understand the ML Workflow\n",
    "- **Data Preprocessing**: Preparing the data for modeling (e.g., handling missing values, scaling, splitting).\n",
    "- **Model Training**: Fitting the model to the training data.\n",
    "- **Model Evaluation**: Assessing the model's performance using appropriate metrics.\n",
    "\n",
    "## Apply Linear Regression on a Dataset (e.g., California Housing)\n",
    "- Load the dataset.\n",
    "- Split the data into training and test sets.\n",
    "- Train a Linear Regression model.\n",
    "- Evaluate the model using Mean Squared Error and R-squared score.\n"
   ]
  },
  {
   "cell_type": "code",
   "execution_count": 3,
   "id": "74012525-323d-4100-8296-e2e3a456fc64",
   "metadata": {},
   "outputs": [
    {
     "name": "stdout",
     "output_type": "stream",
     "text": [
      "Dataset shape: (20640, 9)\n",
      "   MedInc  HouseAge  AveRooms  AveBedrms  Population  AveOccup  Latitude  \\\n",
      "0  8.3252      41.0  6.984127   1.023810       322.0  2.555556     37.88   \n",
      "1  8.3014      21.0  6.238137   0.971880      2401.0  2.109842     37.86   \n",
      "2  7.2574      52.0  8.288136   1.073446       496.0  2.802260     37.85   \n",
      "3  5.6431      52.0  5.817352   1.073059       558.0  2.547945     37.85   \n",
      "4  3.8462      52.0  6.281853   1.081081       565.0  2.181467     37.85   \n",
      "\n",
      "   Longitude  MedHouseVal  \n",
      "0    -122.23        4.526  \n",
      "1    -122.22        3.585  \n",
      "2    -122.24        3.521  \n",
      "3    -122.25        3.413  \n",
      "4    -122.25        3.422  \n",
      "\n",
      "Model Performance:\n",
      "Mean Squared Error (MSE): 0.5559\n",
      "R-squared (R²) Score: 0.5758\n"
     ]
    }
   ],
   "source": [
    "# Step 1: Import necessary libraries\n",
    "import numpy as np\n",
    "import pandas as pd\n",
    "from sklearn.datasets import fetch_california_housing\n",
    "from sklearn.model_selection import train_test_split\n",
    "from sklearn.linear_model import LinearRegression\n",
    "from sklearn.metrics import mean_squared_error, r2_score\n",
    "import matplotlib.pyplot as plt\n",
    "\n",
    "# Step 2: Load the California Housing dataset\n",
    "housing = fetch_california_housing(as_frame=True)\n",
    "df = housing.frame\n",
    "# Step 3: Understand the data\n",
    "print(\"Dataset shape:\", df.shape)\n",
    "print(df.head())\n",
    "\n",
    "# Step 4: Define features (X) and target (y)\n",
    "X = df.drop(columns='MedHouseVal')  # all features\n",
    "y = df['MedHouseVal']               # target: median house value\n",
    "\n",
    "# Step 5: Split data into training and test sets (80/20)\n",
    "X_train, X_test, y_train, y_test = train_test_split(X, y, test_size=0.2, random_state=42)\n",
    "\n",
    "# Step 6: Initialize and train the Linear Regression model\n",
    "model = LinearRegression()\n",
    "model.fit(X_train, y_train)\n",
    "\n",
    "# Step 7: Predict on test data\n",
    "y_pred = model.predict(X_test)\n",
    "\n",
    "# Step 8: Evaluate the model\n",
    "mse = mean_squared_error(y_test, y_pred)\n",
    "r2 = r2_score(y_test, y_pred)\n",
    "\n",
    "print(\"\\nModel Performance:\")\n",
    "print(f\"Mean Squared Error (MSE): {mse:.4f}\")\n",
    "print(f\"R-squared (R²) Score: {r2:.4f}\")\n"
   ]
  },
  {
   "cell_type": "markdown",
   "id": "df7d1759-89b9-436d-b01f-5a8f9b8c9950",
   "metadata": {},
   "source": [
    "#### ✅ R² score shows how well the model explains the variability. Closer to 1 is better."
   ]
  },
  {
   "cell_type": "markdown",
   "id": "0cabed1d-8595-42a8-88ee-ca8e3dbe752f",
   "metadata": {},
   "source": [
    "# Apply Logistic Regression on the Iris Dataset\n",
    "\n",
    "## Steps:\n",
    "1. **Load the Iris dataset** using `sklearn.datasets`.\n",
    "2. **Preprocess the data** (e.g., feature selection, train-test split).\n",
    "3. **Train a Logistic Regression model** using `sklearn.linear_model.LogisticRegression`.\n",
    "4. **Evaluate the model** using accuracy score, confusion matrix, or classification report.\n"
   ]
  },
  {
   "cell_type": "code",
   "execution_count": 4,
   "id": "3f0aa930-cdec-4a74-8a49-cabfa69f5b04",
   "metadata": {},
   "outputs": [
    {
     "name": "stdout",
     "output_type": "stream",
     "text": [
      "Accuracy: 1.0\n",
      "Classification Report:\n",
      "               precision    recall  f1-score   support\n",
      "\n",
      "           0       1.00      1.00      1.00        10\n",
      "           1       1.00      1.00      1.00        20\n",
      "\n",
      "    accuracy                           1.00        30\n",
      "   macro avg       1.00      1.00      1.00        30\n",
      "weighted avg       1.00      1.00      1.00        30\n",
      "\n"
     ]
    }
   ],
   "source": [
    "from sklearn.datasets import load_iris\n",
    "from sklearn.linear_model import LogisticRegression\n",
    "from sklearn.model_selection import train_test_split\n",
    "from sklearn.metrics import accuracy_score, classification_report\n",
    "\n",
    "# Load dataset\n",
    "iris = load_iris()\n",
    "X = iris.data\n",
    "y = iris.target\n",
    "\n",
    "# Binary classification example (e.g., class 0 vs others)\n",
    "# For simplicity, turn it into binary\n",
    "import numpy as np\n",
    "y_binary = np.where(y == 0, 0, 1)\n",
    "\n",
    "# Split data\n",
    "X_train, X_test, y_train, y_test = train_test_split(X, y_binary, test_size=0.2, random_state=42)\n",
    "\n",
    "# Train model\n",
    "logreg = LogisticRegression()\n",
    "logreg.fit(X_train, y_train)\n",
    "\n",
    "# Predict\n",
    "y_pred = logreg.predict(X_test)\n",
    "\n",
    "# Evaluate\n",
    "print(\"Accuracy:\", accuracy_score(y_test, y_pred))\n",
    "print(\"Classification Report:\\n\", classification_report(y_test, y_pred))\n"
   ]
  }
 ],
 "metadata": {
  "kernelspec": {
   "display_name": "Python 3 (ipykernel)",
   "language": "python",
   "name": "python3"
  },
  "language_info": {
   "codemirror_mode": {
    "name": "ipython",
    "version": 3
   },
   "file_extension": ".py",
   "mimetype": "text/x-python",
   "name": "python",
   "nbconvert_exporter": "python",
   "pygments_lexer": "ipython3",
   "version": "3.10.16"
  }
 },
 "nbformat": 4,
 "nbformat_minor": 5
}
